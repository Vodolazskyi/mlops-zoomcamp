{
 "cells": [
  {
   "cell_type": "code",
   "execution_count": null,
   "metadata": {},
   "outputs": [],
   "source": [
    "import pandas as pd\n",
    "import seaborn as sns\n",
    "from sklearn.feature_extraction import DictVectorizer\n",
    "from sklearn.linear_model import LinearRegression\n",
    "from sklearn.metrics import root_mean_squared_error"
   ]
  },
  {
   "cell_type": "code",
   "execution_count": null,
   "metadata": {},
   "outputs": [],
   "source": [
    "taxi_jan = pd.read_parquet(\"data/yellow_tripdata_2023-01.parquet\")"
   ]
  },
  {
   "cell_type": "code",
   "execution_count": null,
   "metadata": {},
   "outputs": [],
   "source": [
    "# Question 1\n",
    "len(taxi_jan.columns)"
   ]
  },
  {
   "cell_type": "code",
   "execution_count": null,
   "metadata": {},
   "outputs": [],
   "source": [
    "# Question 2\n",
    "taxi_jan[\"ride_duration\"] = (\n",
    "    taxi_jan.tpep_dropoff_datetime - taxi_jan.tpep_pickup_datetime\n",
    ")\n",
    "taxi_jan[\"ride_duration\"] = taxi_jan.ride_duration.apply(\n",
    "    lambda td: td.total_seconds() / 60\n",
    ")\n",
    "taxi_jan[\"ride_duration\"].std()"
   ]
  },
  {
   "cell_type": "code",
   "execution_count": null,
   "metadata": {},
   "outputs": [],
   "source": [
    "# Question 3\n",
    "sns.displot(taxi_jan[\"ride_duration\"])"
   ]
  },
  {
   "cell_type": "code",
   "execution_count": null,
   "metadata": {},
   "outputs": [],
   "source": [
    "taxi_jan_filter = taxi_jan[\n",
    "    (taxi_jan.ride_duration >= 1) & (taxi_jan.ride_duration <= 60)\n",
    "]"
   ]
  },
  {
   "cell_type": "code",
   "execution_count": null,
   "metadata": {},
   "outputs": [],
   "source": [
    "taxi_jan_filter.shape[0] / taxi_jan.shape[0]"
   ]
  },
  {
   "cell_type": "code",
   "execution_count": null,
   "metadata": {},
   "outputs": [],
   "source": [
    "# Question 4\n",
    "taxi_jan_filter.loc[:, [\"PULocationID\", \"DOLocationID\"]] = taxi_jan_filter[\n",
    "    [\"PULocationID\", \"DOLocationID\"]\n",
    "].astype(str)\n",
    "train_dicts = taxi_jan_filter[[\"PULocationID\", \"DOLocationID\"]].to_dict(\n",
    "    orient=\"records\"\n",
    ")\n",
    "dv = DictVectorizer()\n",
    "X_train = dv.fit_transform(train_dicts)"
   ]
  },
  {
   "cell_type": "code",
   "execution_count": null,
   "metadata": {},
   "outputs": [],
   "source": [
    "X_train.shape"
   ]
  },
  {
   "cell_type": "code",
   "execution_count": null,
   "metadata": {},
   "outputs": [],
   "source": [
    "# Question 5\n",
    "y_train = taxi_jan_filter[\"ride_duration\"].values\n",
    "lr = LinearRegression()\n",
    "lr.fit(X_train, y_train)"
   ]
  },
  {
   "cell_type": "code",
   "execution_count": null,
   "metadata": {},
   "outputs": [],
   "source": [
    "y_pred = lr.predict(X_train)\n",
    "root_mean_squared_error(y_train, y_pred)"
   ]
  },
  {
   "cell_type": "code",
   "execution_count": null,
   "metadata": {},
   "outputs": [],
   "source": [
    "taxi_feb = pd.read_parquet(\"data/yellow_tripdata_2023-02.parquet\")"
   ]
  },
  {
   "cell_type": "code",
   "execution_count": null,
   "metadata": {},
   "outputs": [],
   "source": [
    "taxi_feb[\"ride_duration\"] = (\n",
    "    taxi_feb.tpep_dropoff_datetime - taxi_feb.tpep_pickup_datetime\n",
    ").apply(lambda td: td.total_seconds() / 60)\n",
    "taxi_feb_filter = taxi_feb[\n",
    "    (taxi_feb.ride_duration >= 1) & (taxi_feb.ride_duration <= 60)\n",
    "]"
   ]
  },
  {
   "cell_type": "code",
   "execution_count": null,
   "metadata": {},
   "outputs": [],
   "source": [
    "taxi_feb_filter.loc[:, [\"PULocationID\", \"DOLocationID\"]] = taxi_feb_filter[\n",
    "    [\"PULocationID\", \"DOLocationID\"]\n",
    "].astype(str)\n",
    "val_dicts = taxi_feb_filter[[\"PULocationID\", \"DOLocationID\"]].to_dict(orient=\"records\")\n",
    "X_val = dv.transform(val_dicts)"
   ]
  },
  {
   "cell_type": "code",
   "execution_count": null,
   "metadata": {},
   "outputs": [],
   "source": [
    "y_val = taxi_feb_filter[\"ride_duration\"].values\n",
    "y_val_pred = lr.predict(X_val)\n",
    "root_mean_squared_error(y_val, y_val_pred)"
   ]
  }
 ],
 "metadata": {
  "kernelspec": {
   "display_name": ".venv",
   "language": "python",
   "name": "python3"
  },
  "language_info": {
   "codemirror_mode": {
    "name": "ipython",
    "version": 3
   },
   "file_extension": ".py",
   "mimetype": "text/x-python",
   "name": "python",
   "nbconvert_exporter": "python",
   "pygments_lexer": "ipython3",
   "version": "3.10.0"
  }
 },
 "nbformat": 4,
 "nbformat_minor": 2
}
